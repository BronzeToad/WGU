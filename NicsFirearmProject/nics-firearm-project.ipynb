{
 "cells": [
  {
   "cell_type": "markdown",
   "source": [
    "# Project - Analysis of FBI NICS Firearm Background Checks"
   ],
   "metadata": {}
  },
  {
   "cell_type": "markdown",
   "source": [
    "## Introduction"
   ],
   "metadata": {}
  },
  {
   "cell_type": "code",
   "execution_count": null,
   "source": [
    "# import packages\n",
    "import pandas as pd\n",
    "import numpy as np\n",
    "import seaborn as sns\n",
    "import matplotlib.pyplot as plt\n",
    "from scipy.stats import pearsonr\n",
    "\n",
    "# set pandas options\n",
    "pd.options.mode.chained_assignment = None\n",
    "pd.set_option('display.max_rows', 1000)\n",
    "pd.set_option('display.min_rows', 100)\n",
    "pd.set_option('display.max_columns', 100)\n",
    "pd.set_option('display.width', 1000)\n",
    "pd.set_option(\"expand_frame_repr\", True)\n",
    "\n",
    "# magic function to render plot in notebook\n",
    "%matplotlib inline"
   ],
   "outputs": [],
   "metadata": {}
  },
  {
   "cell_type": "markdown",
   "source": [
    "## Data Wrangling"
   ],
   "metadata": {}
  },
  {
   "cell_type": "markdown",
   "source": [
    "### Loading Data & Preliminary Review\n",
    "\n",
    "For this project we'll be working with three different datasets\n",
    "We will load each one and review the dataframe to see if any cleaning is necessary"
   ],
   "metadata": {}
  },
  {
   "cell_type": "markdown",
   "source": [
    "#### US States Reference Table"
   ],
   "metadata": {}
  },
  {
   "cell_type": "code",
   "execution_count": null,
   "source": [
    "# load dataset into pandas dataframe\n",
    "dfStates = pd.read_csv('data/us-states.csv')"
   ],
   "outputs": [],
   "metadata": {}
  },
  {
   "cell_type": "code",
   "execution_count": null,
   "source": [
    "# check the df shape (1.1)\n",
    "dfStates.shape"
   ],
   "outputs": [],
   "metadata": {}
  },
  {
   "cell_type": "code",
   "execution_count": null,
   "source": [
    "# check data types (1.2)\n",
    "dfStates.dtypes"
   ],
   "outputs": [],
   "metadata": {}
  },
  {
   "cell_type": "code",
   "execution_count": null,
   "source": [
    "# preview df (1.3)\n",
    "dfStates.head()"
   ],
   "outputs": [],
   "metadata": {}
  },
  {
   "cell_type": "markdown",
   "source": [
    "#### FBI Firearm Data"
   ],
   "metadata": {}
  },
  {
   "cell_type": "code",
   "execution_count": null,
   "source": [
    "# load dataset into pandas dataframe\n",
    "dfGunData = pd.read_csv('data/fbi-gun-data.csv')"
   ],
   "outputs": [],
   "metadata": {}
  },
  {
   "cell_type": "code",
   "execution_count": null,
   "source": [
    "# check the df shape (2.1)\n",
    "dfGunData.shape"
   ],
   "outputs": [],
   "metadata": {}
  },
  {
   "cell_type": "code",
   "execution_count": null,
   "source": [
    "# check data types (2.2)\n",
    "dfGunData.dtypes"
   ],
   "outputs": [],
   "metadata": {}
  },
  {
   "cell_type": "code",
   "execution_count": null,
   "source": [
    "# preview df\n",
    "dfGunData.head()"
   ],
   "outputs": [],
   "metadata": {}
  },
  {
   "cell_type": "markdown",
   "source": [
    "#### US Census Data"
   ],
   "metadata": {}
  },
  {
   "cell_type": "code",
   "execution_count": null,
   "source": [
    "# load dataset into pandas dataframe\n",
    "dfCensus = pd.read_csv('data/us-census-data.csv')"
   ],
   "outputs": [],
   "metadata": {}
  },
  {
   "cell_type": "code",
   "execution_count": null,
   "source": [
    "# check the df shape (3.1)\n",
    "dfCensus.shape"
   ],
   "outputs": [],
   "metadata": {}
  },
  {
   "cell_type": "code",
   "execution_count": null,
   "source": [
    "# check data types\n",
    "dfCensus.dtypes"
   ],
   "outputs": [],
   "metadata": {}
  },
  {
   "cell_type": "code",
   "execution_count": null,
   "source": [
    "# preview df (3.2)\n",
    "dfCensus.head()"
   ],
   "outputs": [],
   "metadata": {}
  },
  {
   "cell_type": "markdown",
   "source": [
    "### Cleaning Data"
   ],
   "metadata": {}
  },
  {
   "cell_type": "code",
   "execution_count": null,
   "source": [
    "# function to clean column headers\n",
    "def CLEAN_COLUMN_HEADERS(df):\n",
    "    df.columns = df.columns.str.lower()  # change headers to lowercase\n",
    "    df.columns = df.columns.str.strip()  # remove leading/trailing whitespace\n",
    "    df.columns = df.columns.str.replace(' ', '_')  # replace spaces with underscores\n",
    "    print(df.columns, '\\n')\n",
    "\n",
    "# function to perform quick group-by tallies\n",
    "def TALLY(df, col, export=False):\n",
    "    tally = df.groupby(col).size().sort_values(ascending=False).reset_index(name='count')\n",
    "\n",
    "    if export:\n",
    "        tally.to_csv('tally-output.csv', index=False)\n",
    "    else:\n",
    "        print(tally, '\\n')"
   ],
   "outputs": [],
   "metadata": {}
  },
  {
   "cell_type": "markdown",
   "source": [
    "#### US States Reference Table"
   ],
   "metadata": {}
  },
  {
   "cell_type": "code",
   "execution_count": null,
   "source": [
    "# clean column headers (4.1)\n",
    "CLEAN_COLUMN_HEADERS(dfStates)"
   ],
   "outputs": [],
   "metadata": {}
  },
  {
   "cell_type": "markdown",
   "source": [
    "#### FBI Firearm Data"
   ],
   "metadata": {}
  },
  {
   "cell_type": "code",
   "execution_count": null,
   "source": [
    "# clean column headers\n",
    "CLEAN_COLUMN_HEADERS(dfGunData)\n",
    "\n",
    "# create year column based on existing month column\n",
    "dfGunData['year'] = dfGunData['month'].str[:4]\n",
    "\n",
    "# create list of columns in df\n",
    "colsGunData = dfGunData.columns.tolist()\n",
    "\n",
    "# move year column in list order, then align df with column list\n",
    "colsGunData = colsGunData[-1:] + colsGunData[:-1]\n",
    "dfGunData = dfGunData[colsGunData]\n",
    "\n",
    "# print columns in df (4.2)\n",
    "dfGunData.columns"
   ],
   "outputs": [],
   "metadata": {}
  },
  {
   "cell_type": "markdown",
   "source": [
    "#### US Census Data"
   ],
   "metadata": {}
  },
  {
   "cell_type": "code",
   "execution_count": null,
   "source": [
    "# remove the rows after the actual metrics\n",
    "dfCensus = dfCensus.loc[:63]"
   ],
   "outputs": [],
   "metadata": {}
  },
  {
   "cell_type": "code",
   "execution_count": null,
   "source": [
    "# rename fact column to 'metric'\n",
    "dfCensus = dfCensus.rename(columns={'Fact': 'metric'})\n",
    "\n",
    "# create metric_id\n",
    "dfCensus.reset_index(level=0, inplace=True)\n",
    "dfCensus['metric_id'] = dfCensus['index'] + 1\n",
    "del dfCensus['index']\n",
    "\n",
    "# create a list of states to use as id_vars when melting dfCensus\n",
    "stateList = dfStates['name'].unique()\n",
    "\n",
    "# reshape dataframe into long format (melt)\n",
    "dfCensus = pd.melt(dfCensus,\n",
    "                   id_vars=['metric_id', 'metric'],\n",
    "                   value_vars=stateList,\n",
    "                   var_name='state',\n",
    "                   value_name='value')\n",
    "\n",
    "# clean column headers (4.3)\n",
    "CLEAN_COLUMN_HEADERS(dfCensus)"
   ],
   "outputs": [],
   "metadata": {}
  },
  {
   "cell_type": "code",
   "execution_count": null,
   "source": [
    "# create list of value flags to remove before converting to numeric\n",
    "valueFlags = 'D F FN NA S X Z'.split()\n",
    "\n",
    "# create lists of conditions and results for vectorization method\n",
    "conditions = [\n",
    "    dfCensus['value'].str.endswith('%'),\n",
    "    dfCensus['value'].str.startswith('$') & dfCensus['value'].str.contains(',', na=False),\n",
    "    dfCensus['value'].str.startswith('$'),\n",
    "    dfCensus['value'].str.contains(',', na=False),\n",
    "    dfCensus['value'].isin(valueFlags)\n",
    "]\n",
    "\n",
    "resultsValueType = [\n",
    "    'percent',\n",
    "    'currency',\n",
    "    'currency',\n",
    "    'number',\n",
    "    'value_flag'\n",
    "]\n",
    "\n",
    "resultsValue = [\n",
    "    dfCensus.value.str[:-1].str.strip(),\n",
    "    dfCensus.value.str[1:].str.replace(',', '').str.strip(),\n",
    "    dfCensus.value.str[1:].str.strip(),\n",
    "    dfCensus.value.str.replace(',', '').str.strip(),\n",
    "    np.NaN\n",
    "]\n",
    "\n",
    "# create value_type using vectorization lists (5.1)\n",
    "dfCensus['value_type'] = np.select(conditions, resultsValueType, default='number')\n",
    "TALLY(dfCensus, 'value_type')\n",
    "\n",
    "# create new_value using vectorization lists (5.2)\n",
    "dfCensus['new_value'] = np.select(conditions, resultsValue, default=dfCensus.value)\n",
    "TALLY(dfCensus, 'new_value')"
   ],
   "outputs": [],
   "metadata": {}
  },
  {
   "cell_type": "code",
   "execution_count": null,
   "source": [
    "# convert new_value to numeric\n",
    "dfCensus['new_value'] = pd.to_numeric(dfCensus['new_value'])\n",
    "dfCensus.dtypes\n",
    "\n",
    "# adjust percent values using vectorization\n",
    "dfCensus['value_percent_fix'] = np.where(\n",
    "    dfCensus.value_type == 'percent',  # parameter\n",
    "    dfCensus.new_value / 100,  # true branch\n",
    "    dfCensus.new_value)  # false branch\n",
    "\n",
    "# assign cleaned value field to 'value' and drop extra fields\n",
    "dfCensus['value'] = dfCensus.value_percent_fix\n",
    "dfCensus = dfCensus.drop(columns=['new_value', 'value_percent_fix'])"
   ],
   "outputs": [],
   "metadata": {}
  },
  {
   "cell_type": "markdown",
   "source": [
    "### Create Focused Metric Table for Analysis"
   ],
   "metadata": {}
  },
  {
   "cell_type": "code",
   "execution_count": null,
   "source": [
    "# Total Gun Registrations (2016)\n",
    "\n",
    "# filter fbi gun df to 2016\n",
    "mask = (dfGunData['year'] == '2016') & (dfGunData['state'].isin(stateList))\n",
    "dfGunTotals = dfGunData[mask]\n",
    "\n",
    "# combine totals, grouping by state\n",
    "dfGunTotals = dfGunTotals[['state', 'totals']]\n",
    "dfGunTotals = dfGunTotals.groupby(['state'], as_index=False).sum()\n",
    "\n",
    "# rename totals column\n",
    "dfGunTotals = dfGunTotals.rename(columns={'totals': 'total_gun_registrations'})\n",
    "\n",
    "# rearrange and trim dataframe\n",
    "dfGunTotals = dfGunTotals[['state', 'total_gun_registrations']]\n",
    "\n",
    "# preview df (6.1)\n",
    "dfGunTotals.head()"
   ],
   "outputs": [],
   "metadata": {}
  },
  {
   "cell_type": "code",
   "execution_count": null,
   "source": [
    "# function to get individual census metrics by metric_id\n",
    "def CENSUS_METRICS(metric_id, value):\n",
    "\n",
    "    # filter census df\n",
    "    mask = dfCensus['metric_id'] == metric_id\n",
    "    df = dfCensus[mask]\n",
    "\n",
    "    # reset index\n",
    "    df.reset_index(inplace=True)\n",
    "\n",
    "    # rename value column\n",
    "    df = df.rename(columns={'value': value})\n",
    "\n",
    "    # rearrange and trim dataframe\n",
    "    df = df[['state', value]]\n",
    "\n",
    "    return df"
   ],
   "outputs": [],
   "metadata": {}
  },
  {
   "cell_type": "code",
   "execution_count": null,
   "source": [
    "# get individual census metrics\n",
    "\n",
    "# Population Estimates (2016) - 'Population estimates, July 1, 2016,  (V2016)'\n",
    "dfCensus1 = CENSUS_METRICS(1, 'population_estimate')\n",
    "\n",
    "# Population by Race - 'Black or African American alone, percent, July 1, 2016,  (V2016)'\n",
    "dfCensus14 = CENSUS_METRICS(14, 'percent_of_population_black_african_american')\n",
    "\n",
    "# Population by Race - 'American Indian and Alaska Native alone, percent, July 1, 2016,  (V2016)'\n",
    "dfCensus15 = CENSUS_METRICS(15, 'percent_of_population_american_indian')\n",
    "\n",
    "# Population by Race - 'Asian alone, percent, July 1, 2016,  (V2016)'\n",
    "dfCensus16 = CENSUS_METRICS(16, 'percent_of_population_asian')\n",
    "\n",
    "# Population by Race - 'Native Hawaiian and Other Pacific Islander alone, percent, July 1, 2016,  (V2016)'\n",
    "dfCensus17 = CENSUS_METRICS(17, 'percent_of_population_pacific_islander')\n",
    "\n",
    "# Population by Race - 'Two or More Races, percent, July 1, 2016,  (V2016)'\n",
    "dfCensus18 = CENSUS_METRICS(18, 'percent_of_population_two_or_more_races')\n",
    "\n",
    "# Population by Race - 'Hispanic or Latino, percent, July 1, 2016,  (V2016)'\n",
    "dfCensus19 = CENSUS_METRICS(19, 'percent_of_population_hispanic')\n",
    "\n",
    "# Population by Race - 'White alone, not Hispanic or Latino, percent, July 1, 2016,  (V2016)'\n",
    "dfCensus20 = CENSUS_METRICS(20, 'percent_of_population_white')\n",
    "\n",
    "# Population by Education Level - 'Bachelor's degree or higher, percent of persons age 25 years+, 2011-2015'\n",
    "dfCensus36 = CENSUS_METRICS(36, 'percent_of_population_bachelors_degree')\n",
    "\n",
    "# Median Household Income - 'Median household income (in 2015 dollars), 2011-2015'\n",
    "dfCensus48 = CENSUS_METRICS(48, 'median_household_income')\n",
    "\n",
    "# Percent of Population in Poverty - 'Persons in poverty, percent'\n",
    "dfCensus50 = CENSUS_METRICS(50, 'percent_of_population_in_poverty')\n",
    "\n",
    "# Median Home Value - 'Median value of owner-occupied housing units, 2011-2015'\n",
    "dfCensus26 = CENSUS_METRICS(26, 'median_home_value')"
   ],
   "outputs": [],
   "metadata": {}
  },
  {
   "cell_type": "code",
   "execution_count": null,
   "source": [
    "# merge metric dataframes\n",
    "\n",
    "# create list of metric dataframes\n",
    "metricDataFrames = [\n",
    "    dfGunTotals,\n",
    "    dfCensus1,\n",
    "    dfCensus14,\n",
    "    dfCensus15,\n",
    "    dfCensus16,\n",
    "    dfCensus17,\n",
    "    dfCensus18,\n",
    "    dfCensus19,\n",
    "    dfCensus20,\n",
    "    dfCensus36,\n",
    "    dfCensus48,\n",
    "    dfCensus50,\n",
    "    dfCensus26\n",
    "]\n",
    "\n",
    "# create master metrics dataframe\n",
    "dfMetrics = dfStates[['name']].drop_duplicates()\n",
    "dfMetrics.reset_index(inplace=True, drop=True)\n",
    "dfMetrics = dfMetrics.rename(columns={'name': 'state'})\n",
    "\n",
    "# merge individual metric dataframes to master metric df\n",
    "for df in metricDataFrames:\n",
    "    dfMetrics = dfMetrics.merge(df, on='state')\n",
    "\n",
    "# preview df (6.2)\n",
    "dfMetrics.head()"
   ],
   "outputs": [],
   "metadata": {}
  },
  {
   "cell_type": "markdown",
   "source": [
    "## Exploratory Data Analysis"
   ],
   "metadata": {}
  },
  {
   "cell_type": "code",
   "execution_count": null,
   "source": [
    "# function to create simple scatterplot\n",
    "def SCATTERPLOT(df, metric1, metric2, title):\n",
    "    plt.figure(figsize=(8, 8))\n",
    "    sns.set(font_scale=1)\n",
    "\n",
    "    scatter = sns.scatterplot(\n",
    "        data=df, x=metric1, y=metric2\n",
    "    )\n",
    "\n",
    "    scatter.set(title=title)\n",
    "\n",
    "# function to print pearsons correlation\n",
    "def CORR_VALUE(df, metric1, metric2):\n",
    "    corr, _ = pearsonr(df[metric1], df[metric2])\n",
    "    print('Correlation: %.3f' % corr)\n",
    "\n",
    "# function to create correlation matrix heatmaps\n",
    "def CORR_MATRIX(df, title):\n",
    "    plt.figure(figsize=(8, 8))\n",
    "    sns.set(font_scale=1)\n",
    "\n",
    "    corr = sns.heatmap(\n",
    "        df.corr(), vmin=-1, vmax=1, center=0, square=True, annot=True,\n",
    "        cmap=sns.diverging_palette(20, 220, n=200)\n",
    "    )\n",
    "    \n",
    "    corr.set_xticklabels(\n",
    "        corr.get_xticklabels(), rotation=45, horizontalalignment='right'\n",
    "    )\n",
    "\n",
    "    corr.set(title=title)"
   ],
   "outputs": [],
   "metadata": {}
  },
  {
   "cell_type": "markdown",
   "source": [
    "### Which states have the most gun registrations per capita?"
   ],
   "metadata": {}
  },
  {
   "cell_type": "code",
   "execution_count": null,
   "source": [
    "# calculate gun registrations per capita\n",
    "dfMetrics['guns_per_capita'] = dfMetrics['total_gun_registrations'] / dfMetrics['population_estimate']\n",
    "\n",
    "# create narrow df with state and guns_per_capita\n",
    "dfRankByState = dfMetrics[['state','guns_per_capita']]\n",
    "dfRankByState.head()\n",
    "\n",
    "# sort df in descending order\n",
    "dfRankByState = dfRankByState.sort_values(\n",
    "    by=['guns_per_capita'],\n",
    "    ascending=False\n",
    ")\n",
    "\n",
    "# reset index\n",
    "dfRankByState.reset_index(inplace=True, drop=True)\n",
    "\n",
    "# create ranking\n",
    "dfRankByState.reset_index(level=0, inplace=True)\n",
    "dfRankByState['ranking'] = dfRankByState['index'] + 1\n",
    "del dfRankByState['index']\n",
    "\n",
    "# reorder dataframe\n",
    "dfRankByState = dfRankByState[['ranking', 'state', 'guns_per_capita']]\n",
    "\n",
    "# print rankings (7.1)\n",
    "dfRankByState"
   ],
   "outputs": [],
   "metadata": {}
  },
  {
   "cell_type": "code",
   "execution_count": null,
   "source": [
    "# create bar plot to visualize rankings\n",
    "\n",
    "# adjust plot settings\n",
    "plt.figure(figsize=(8, 10))\n",
    "sns.set(font_scale=1)\n",
    "\n",
    "# create bar plot\n",
    "bar = sns.barplot(\n",
    "    data=dfRankByState,\n",
    "    x='guns_per_capita',\n",
    "    y='state',\n",
    "    color='royalblue'\n",
    ")\n",
    "\n",
    "# set plot title\n",
    "bar.set(title='Total Gun Registrations by State (2016)')"
   ],
   "outputs": [],
   "metadata": {}
  },
  {
   "cell_type": "code",
   "execution_count": null,
   "source": [
    "# drop Kentucky\n",
    "dfNoKentucky = dfMetrics.drop([16])"
   ],
   "outputs": [],
   "metadata": {}
  },
  {
   "cell_type": "markdown",
   "source": [
    "### Are there any positive correlations between gun registrations and race?"
   ],
   "metadata": {}
  },
  {
   "cell_type": "code",
   "execution_count": null,
   "source": [
    "# create dataframe with metrics pertaining to race\n",
    "\n",
    "# create list us census metrics relating to race\n",
    "cols = [\n",
    "    'guns_per_capita',\n",
    "    'percent_of_population_black_african_american',\n",
    "    'percent_of_population_american_indian',\n",
    "    'percent_of_population_asian',\n",
    "    'percent_of_population_pacific_islander',\n",
    "    'percent_of_population_two_or_more_races',\n",
    "    'percent_of_population_hispanic',\n",
    "    'percent_of_population_white'\n",
    "]\n",
    "\n",
    "# filter dataframe to include only those metrics\n",
    "dfRaceMetrics = dfNoKentucky[cols]\n",
    "\n",
    "# preview df (8.1)\n",
    "dfRaceMetrics.head()"
   ],
   "outputs": [],
   "metadata": {}
  },
  {
   "cell_type": "code",
   "execution_count": null,
   "source": [
    "# look for any correlations with matrix heatmap (8.2)\n",
    "CORR_MATRIX(dfRaceMetrics, 'Correlation Matrix - US Census Population by Race (2016)')"
   ],
   "outputs": [],
   "metadata": {}
  },
  {
   "cell_type": "code",
   "execution_count": null,
   "source": [
    "# guns_per_capita & percent_of_population_white\n",
    "\n",
    "# print pearsons correlation value (8.3)\n",
    "CORR_VALUE(dfRaceMetrics, 'guns_per_capita', 'percent_of_population_white')\n",
    "\n",
    "# create scatterplot (8.4)\n",
    "SCATTERPLOT(\n",
    "    df=dfRaceMetrics, \n",
    "    metric1='guns_per_capita', \n",
    "    metric2='percent_of_population_white',\n",
    "    title='Percent of Population White vs. Gun Registrations per Capita'\n",
    ")"
   ],
   "outputs": [],
   "metadata": {}
  },
  {
   "cell_type": "markdown",
   "source": [
    "### What is the relationship between higher education and gun registrations?"
   ],
   "metadata": {}
  },
  {
   "cell_type": "code",
   "execution_count": null,
   "source": [
    "# create dataframe with guns per capita and percentage of population with bachelors degree\n",
    "\n",
    "# create narrow df and preview (9.1)\n",
    "dfEducationMetric = dfNoKentucky[['guns_per_capita', 'percent_of_population_bachelors_degree']]\n",
    "dfEducationMetric.head()"
   ],
   "outputs": [],
   "metadata": {}
  },
  {
   "cell_type": "code",
   "execution_count": null,
   "source": [
    "# guns_per_capita & percent_of_population_bachelors_degree\n",
    "\n",
    "# print pearsons correlation value (9.2)\n",
    "CORR_VALUE(dfEducationMetric, 'guns_per_capita', 'percent_of_population_bachelors_degree')\n",
    "\n",
    "# create scatterplot (9.3)\n",
    "SCATTERPLOT(\n",
    "    df=dfEducationMetric, \n",
    "    metric1='guns_per_capita', \n",
    "    metric2='percent_of_population_bachelors_degree',\n",
    "    title='Percent of Population with Bachelors Degree vs. Gun Registrations per Capita'\n",
    ")"
   ],
   "outputs": [],
   "metadata": {}
  },
  {
   "cell_type": "markdown",
   "source": [
    "### 4. What is the relationship between poverty and gun registrations?"
   ],
   "metadata": {}
  },
  {
   "cell_type": "code",
   "execution_count": null,
   "source": [
    "# create dataframe with income, home value, and poverty metrics\n",
    "\n",
    "# create list us census metrics relating to poverty\n",
    "cols = [\n",
    "    'guns_per_capita',\n",
    "    'median_household_income',\n",
    "    'percent_of_population_in_poverty',\n",
    "    'median_home_value'\n",
    "]\n",
    "\n",
    "# create narrow df\n",
    "dfPovertyMetrics = dfNoKentucky[cols]\n",
    "\n",
    "# preview df (10.1)\n",
    "dfPovertyMetrics.head()"
   ],
   "outputs": [],
   "metadata": {}
  },
  {
   "cell_type": "code",
   "execution_count": null,
   "source": [
    "# look for any correlations with matrix heatmap (10.2)\n",
    "CORR_MATRIX(dfPovertyMetrics, 'Correlation Matrix - Poverty, Income, and Home Value (2016)')"
   ],
   "outputs": [],
   "metadata": {}
  },
  {
   "cell_type": "code",
   "execution_count": null,
   "source": [
    "# guns_per_capita & median_home_value\n",
    "\n",
    "# print pearsons correlation value (10.3)\n",
    "CORR_VALUE(dfPovertyMetrics, 'guns_per_capita', 'median_home_value')\n",
    "\n",
    "# create scatterplot (10.4)\n",
    "SCATTERPLOT(\n",
    "    df=dfPovertyMetrics, \n",
    "    metric1='guns_per_capita', \n",
    "    metric2='median_home_value',\n",
    "    title='Median Home Value vs. Gun Registrations per Capita'\n",
    ")"
   ],
   "outputs": [],
   "metadata": {}
  },
  {
   "cell_type": "code",
   "execution_count": null,
   "source": [
    "# guns_per_capita & median_household_income\n",
    "\n",
    "# print pearsons correlation value (10.5)\n",
    "CORR_VALUE(dfPovertyMetrics, 'guns_per_capita', 'median_household_income')\n",
    "\n",
    "# create scatterplot (10.6)\n",
    "SCATTERPLOT(\n",
    "    df=dfPovertyMetrics, \n",
    "    metric1='guns_per_capita', \n",
    "    metric2='median_household_income',\n",
    "    title='Median Household Income vs. Gun Registrations per Capita'\n",
    ")"
   ],
   "outputs": [],
   "metadata": {}
  }
 ],
 "metadata": {
  "kernelspec": {
   "name": "python3",
   "display_name": "Python 3.7.10 64-bit ('base': conda)"
  },
  "language_info": {
   "codemirror_mode": {
    "name": "ipython",
    "version": 3
   },
   "file_extension": ".py",
   "mimetype": "text/x-python",
   "name": "python",
   "nbconvert_exporter": "python",
   "pygments_lexer": "ipython3",
   "version": "3.7.10"
  },
  "interpreter": {
   "hash": "a3f8616096a91e3429d26f7600a212c08570ab1531b4d79a72d89efa8f323cdf"
  }
 },
 "nbformat": 4,
 "nbformat_minor": 2
}