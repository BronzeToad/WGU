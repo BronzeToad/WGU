{
 "metadata": {
  "language_info": {
   "codemirror_mode": {
    "name": "ipython",
    "version": 3
   },
   "file_extension": ".py",
   "mimetype": "text/x-python",
   "name": "python",
   "nbconvert_exporter": "python",
   "pygments_lexer": "ipython3",
   "version": "3.7.10"
  },
  "orig_nbformat": 2,
  "kernelspec": {
   "name": "python3710jvsc74a57bd0a3f8616096a91e3429d26f7600a212c08570ab1531b4d79a72d89efa8f323cdf",
   "display_name": "Python 3.7.10 64-bit ('base': conda)"
  }
 },
 "nbformat": 4,
 "nbformat_minor": 2,
 "cells": [
  {
   "cell_type": "code",
   "execution_count": null,
   "metadata": {},
   "outputs": [],
   "source": [
    "# import data and take a look\n",
    "import pandas as pd\n",
    "\n",
    "df = pd.read_csv('stroopData.csv')\n",
    "print(df)"
   ]
  },
  {
   "cell_type": "code",
   "execution_count": null,
   "metadata": {},
   "outputs": [],
   "source": [
    "# get summary statistics\n",
    "df[['Congruent', 'Incongruent']].describe()"
   ]
  },
  {
   "cell_type": "code",
   "execution_count": null,
   "metadata": {},
   "outputs": [],
   "source": [
    "# clean data frame prior to analysis\n",
    "\n",
    "# convert index into participant id\n",
    "df.reset_index(level=0, inplace=True)\n",
    "df['ParticipantID'] = df['index'] + 1\n",
    "del df['index']\n",
    "\n",
    "# reshape data frame into long format\n",
    "stroop_df = pd.melt(df, \\\n",
    "    id_vars = 'ParticipantID', \\\n",
    "    value_vars = ['Congruent', 'Incongruent'], \\\n",
    "    var_name = 'ConditionType', \\\n",
    "    value_name = 'ResponseTime')\n",
    "\n",
    "print(stroop_df)"
   ]
  },
  {
   "cell_type": "code",
   "execution_count": null,
   "metadata": {},
   "outputs": [],
   "source": [
    "# import visualization library\n",
    "import seaborn as sns"
   ]
  },
  {
   "cell_type": "code",
   "execution_count": null,
   "metadata": {},
   "outputs": [],
   "source": [
    "# box plot with swarm to check for outliers\n",
    "\n",
    "sns.boxplot(data = stroop_df, \\\n",
    "    x = 'ConditionType', \\\n",
    "    y = 'ResponseTime')\n",
    "\n",
    "sns.swarmplot(data = stroop_df, \\\n",
    "    x = 'ConditionType', \\\n",
    "    y = 'ResponseTime', \\\n",
    "    color = '.25')"
   ]
  },
  {
   "cell_type": "code",
   "execution_count": null,
   "metadata": {},
   "outputs": [],
   "source": [
    "# histogram\n",
    "\n",
    "sns.displot(stroop_df, \\\n",
    "    x = 'ResponseTime', \\\n",
    "    col = 'ConditionType', \\\n",
    "    multiple = 'dodge')"
   ]
  },
  {
   "cell_type": "code",
   "execution_count": null,
   "metadata": {},
   "outputs": [],
   "source": [
    "# empirical cumulative distributions\n",
    "\n",
    "sns.displot(stroop_df, \\\n",
    "    x = 'ResponseTime', \\\n",
    "    hue = 'ConditionType', \\\n",
    "    kind = 'ecdf', \\\n",
    "    palette = 'Accent')"
   ]
  },
  {
   "cell_type": "code",
   "execution_count": null,
   "metadata": {},
   "outputs": [],
   "source": [
    "# kernel density estimation\n",
    "\n",
    "sns.displot(stroop_df, \\\n",
    "    x = 'ResponseTime', \\\n",
    "    hue = 'ConditionType', \\\n",
    "    kind = 'kde', \\\n",
    "    fill = True, \\\n",
    "    palette = 'Accent')"
   ]
  },
  {
   "cell_type": "code",
   "execution_count": null,
   "metadata": {},
   "outputs": [],
   "source": [
    "# paired sample t-test\n",
    "from scipy import stats\n",
    "\n",
    "t_val, p_val = stats.ttest_rel(df.Incongruent, df.Congruent)\n",
    "print(\"t-distribution = %g\" % t_val)\n",
    "print(\"p-value = %g\" % p_val)"
   ]
  },
  {
   "cell_type": "code",
   "execution_count": null,
   "metadata": {},
   "outputs": [],
   "source": [
    "# adjusted p-value\n",
    "\n",
    "adj_p_val = p_val / 2\n",
    "print(\"adjusted p-value = %g\" % adj_p_val)"
   ]
  }
 ]
}