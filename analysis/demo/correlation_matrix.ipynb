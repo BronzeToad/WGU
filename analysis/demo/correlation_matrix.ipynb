{
 "cells": [
  {
   "cell_type": "code",
   "execution_count": null,
   "outputs": [],
   "source": [
    "from models.databank_analysis import get_fresh_baseball_df, get_numerical_df\n",
    "\n",
    "# create main baseball dataframe\n",
    "bb_df = get_fresh_baseball_df()\n",
    "\n",
    "# create dataframe subset with numerical columns\n",
    "num_df = get_numerical_df(bb_df)\n",
    "\n",
    "num_df.head(25)"
   ],
   "metadata": {
    "collapsed": false
   }
  },
  {
   "cell_type": "code",
   "execution_count": null,
   "outputs": [],
   "source": [
    "import pandas as pd\n",
    "from helpers.analysis_utils import get_correlation_analysis_dict\n",
    "\n",
    "# get correlation coefficients and p-values\n",
    "df = num_df.drop(columns=['bb_key']).copy()\n",
    "corr_dict = get_correlation_analysis_dict(df, 'allstar_flag')\n",
    "\n",
    "for k, v in corr_dict.items():\n",
    "    print(f'{k}: {v}')"
   ],
   "metadata": {
    "collapsed": false
   }
  },
  {
   "cell_type": "code",
   "execution_count": null,
   "outputs": [],
   "source": [
    "# create dataframe with dictionary\n",
    "corr_df = pd.DataFrame({\n",
    "    'Baseball Databank Field': [k for k in corr_dict.keys()],\n",
    "    'Correlation Coefficient': [round(v[0], 4) for k, v in corr_dict.items()],\n",
    "    'P-Value': [round(v[1], 4) for k, v in corr_dict.items()]\n",
    "})\n",
    "corr_df.head(10)"
   ],
   "metadata": {
    "collapsed": false
   }
  },
  {
   "cell_type": "code",
   "execution_count": null,
   "outputs": [],
   "source": [
    "import numpy as np\n",
    "\n",
    "# add derived columns to stats_df\n",
    "corr_df['Statistically Significant'] = np.where(corr_df['P-Value'] < 0.01, True, False)\n",
    "corr_df['Practically Significant'] = np.where(corr_df['Correlation Coefficient'].abs() >= 0.3, True, False)\n",
    "\n",
    "condlist = [\n",
    "    corr_df['Correlation Coefficient'].abs() == round(0.0, 4),\n",
    "    corr_df['Correlation Coefficient'].abs() == round(1.0, 4),\n",
    "    corr_df['Correlation Coefficient'].abs() < 0.3,\n",
    "    corr_df['Correlation Coefficient'].abs() < 0.6,\n",
    "    corr_df['Correlation Coefficient'].abs() < 0.9,\n",
    "    corr_df['Correlation Coefficient'].abs() < 1.0\n",
    "]\n",
    "choicelist = [\n",
    "    'No Correlation',\n",
    "    'Perfect Correlation',\n",
    "    np.where(corr_df['Correlation Coefficient'] > 0.0, 'Low (Positive)', 'Low (Negative)'),\n",
    "    np.where(corr_df['Correlation Coefficient'] > 0.0, 'Moderate (Positive)', 'Moderate (Negative)'),\n",
    "    np.where(corr_df['Correlation Coefficient'] > 0.0, 'High (Positive)', 'High (Negative)'),\n",
    "    np.where(corr_df['Correlation Coefficient'] > 0.0, 'Very High (Positive)', 'Very High (Negative)')\n",
    "]\n",
    "corr_df['Magnitude'] = np.select(condlist, choicelist, default=pd.NA)\n",
    "\n",
    "corr_df.head(10)"
   ],
   "metadata": {
    "collapsed": false
   }
  },
  {
   "cell_type": "code",
   "execution_count": null,
   "outputs": [],
   "source": [
    "# Get top 20 fields by correlation coefficient\n",
    "corr_df['abs_corr'] = corr_df['Correlation Coefficient'].abs()\n",
    "top20 = corr_df.nlargest(20, 'abs_corr')['Baseball Databank Field'].tolist()\n",
    "top20.append('allstar_flag')\n",
    "corr_df.drop(columns=['abs_corr'], inplace=True)\n",
    "\n",
    "print(top20)"
   ],
   "metadata": {
    "collapsed": false
   }
  },
  {
   "cell_type": "code",
   "execution_count": null,
   "outputs": [],
   "source": [
    "from helpers.analysis_utils import get_correlation_matrix\n",
    "\n",
    "# plot correlation matrix / heatmap\n",
    "get_correlation_matrix(\n",
    "    dataframe=df[top20],\n",
    "    plot_title='Correlation Matrix: MLB All-Star Roster Analysis | Baseball Databank'\n",
    ")"
   ],
   "metadata": {
    "collapsed": false
   }
  }
 ],
 "metadata": {
  "kernelspec": {
   "display_name": "Python 3",
   "language": "python",
   "name": "python3"
  },
  "language_info": {
   "codemirror_mode": {
    "name": "ipython",
    "version": 2
   },
   "file_extension": ".py",
   "mimetype": "text/x-python",
   "name": "python",
   "nbconvert_exporter": "python",
   "pygments_lexer": "ipython2",
   "version": "2.7.6"
  }
 },
 "nbformat": 4,
 "nbformat_minor": 0
}
