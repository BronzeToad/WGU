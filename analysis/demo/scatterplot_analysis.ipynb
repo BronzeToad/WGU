{
 "cells": [
  {
   "cell_type": "code",
   "execution_count": null,
   "metadata": {
    "collapsed": true
   },
   "outputs": [],
   "source": [
    "from models.databank_analysis import get_fresh_baseball_df, get_numerical_df\n",
    "\n",
    "# create main baseball dataframe\n",
    "bb_df = get_fresh_baseball_df()\n",
    "\n",
    "# create dataframe subset with numerical columns\n",
    "num_df = get_numerical_df(bb_df)\n",
    "\n",
    "num_df.head(25)"
   ]
  },
  {
   "cell_type": "code",
   "execution_count": null,
   "outputs": [],
   "source": [
    "# create list of columns to plot\n",
    "scatterplot_cols = [    # reduced cols for demo\n",
    "    'batting_home_runs', 'batting_strikeouts', 'batting_runs', 'games_started'\n",
    "]\n",
    "\n",
    "print(scatterplot_cols)"
   ],
   "metadata": {
    "collapsed": false
   }
  },
  {
   "cell_type": "code",
   "execution_count": null,
   "outputs": [],
   "source": [
    "# create tuple pairs for scatterplots\n",
    "scatterplot_pairs = []\n",
    "for i, x in enumerate(scatterplot_cols):\n",
    "    for j, y in enumerate(scatterplot_cols):\n",
    "        if i < j:\n",
    "            scatterplot_pairs.append([x, y])\n",
    "\n",
    "print(scatterplot_pairs)"
   ],
   "metadata": {
    "collapsed": false
   }
  },
  {
   "cell_type": "code",
   "execution_count": null,
   "outputs": [],
   "source": [
    "from helpers.analysis_utils import get_scatterplot\n",
    "\n",
    "# plot scatterplots\n",
    "for pair in scatterplot_pairs:\n",
    "    get_scatterplot(\n",
    "        dataframe=num_df,\n",
    "        column_x=pair[0],\n",
    "        column_y=pair[1]\n",
    "    )"
   ],
   "metadata": {
    "collapsed": false
   }
  }
 ],
 "metadata": {
  "kernelspec": {
   "display_name": "Python 3",
   "language": "python",
   "name": "python3"
  },
  "language_info": {
   "codemirror_mode": {
    "name": "ipython",
    "version": 2
   },
   "file_extension": ".py",
   "mimetype": "text/x-python",
   "name": "python",
   "nbconvert_exporter": "python",
   "pygments_lexer": "ipython2",
   "version": "2.7.6"
  }
 },
 "nbformat": 4,
 "nbformat_minor": 0
}
