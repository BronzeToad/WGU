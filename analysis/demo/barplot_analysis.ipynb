{
 "cells": [
  {
   "cell_type": "code",
   "execution_count": null,
   "metadata": {
    "collapsed": true
   },
   "outputs": [],
   "source": [
    "from models.databank_analysis import get_fresh_baseball_df, get_categorical_df\n",
    "\n",
    "# create main baseball dataframe\n",
    "bb_df = get_fresh_baseball_df()\n",
    "\n",
    "# create dataframe subset with categorical columns\n",
    "cat_df = get_categorical_df(bb_df)\n",
    "\n",
    "cat_df.head(25)"
   ]
  },
  {
   "cell_type": "code",
   "execution_count": null,
   "outputs": [],
   "source": [
    "from helpers.analysis_utils import get_horizontal_barplot\n",
    "\n",
    "# create barplot for allstar_flag\n",
    "get_horizontal_barplot(\n",
    "    dataframe=cat_df,\n",
    "    group_by_col='allstar_flag'\n",
    ")"
   ],
   "metadata": {
    "collapsed": false
   }
  },
  {
   "cell_type": "code",
   "execution_count": null,
   "outputs": [],
   "source": [
    "# create list of columns to plot\n",
    "barplot_cols = []\n",
    "for col in cat_df.columns:\n",
    "    if col not in ['bb_key', 'allstar_flag']:\n",
    "        barplot_cols.append(col)\n",
    "\n",
    "print(barplot_cols)"
   ],
   "metadata": {
    "collapsed": false
   }
  },
  {
   "cell_type": "code",
   "execution_count": null,
   "outputs": [],
   "source": [
    "# create shorter list for demo\n",
    "barplot_cols = [\n",
    "    'team_name', 'college_name', 'college_years_played', 'manager_name', 'batting_hand'\n",
    "]"
   ],
   "metadata": {
    "collapsed": false
   }
  },
  {
   "cell_type": "code",
   "execution_count": null,
   "outputs": [],
   "source": [
    "from helpers.analysis_utils import get_bool_dual_horizontal_barplot\n",
    "\n",
    "# plot barplots\n",
    "for col in barplot_cols:\n",
    "    get_bool_dual_horizontal_barplot(\n",
    "        dataframe=cat_df,\n",
    "        group_by_col=col,\n",
    "        bool_col='allstar_flag'\n",
    "    )"
   ],
   "metadata": {
    "collapsed": false
   }
  }
 ],
 "metadata": {
  "kernelspec": {
   "display_name": "Python 3",
   "language": "python",
   "name": "python3"
  },
  "language_info": {
   "codemirror_mode": {
    "name": "ipython",
    "version": 2
   },
   "file_extension": ".py",
   "mimetype": "text/x-python",
   "name": "python",
   "nbconvert_exporter": "python",
   "pygments_lexer": "ipython2",
   "version": "2.7.6"
  }
 },
 "nbformat": 4,
 "nbformat_minor": 0
}
