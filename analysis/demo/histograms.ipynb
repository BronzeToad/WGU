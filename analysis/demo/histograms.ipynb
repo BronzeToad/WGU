{
 "cells": [
  {
   "cell_type": "code",
   "execution_count": null,
   "metadata": {
    "collapsed": true
   },
   "outputs": [],
   "source": [
    "from models.databank_analysis import get_fresh_baseball_df, get_numerical_df\n",
    "\n",
    "# create main baseball dataframe\n",
    "bb_df = get_fresh_baseball_df()\n",
    "\n",
    "# create dataframe subset with numerical columns\n",
    "num_df = get_numerical_df(bb_df)\n",
    "\n",
    "num_df.head(25)"
   ]
  },
  {
   "cell_type": "code",
   "execution_count": null,
   "outputs": [],
   "source": [
    "# create list of columns to plot\n",
    "histo_cols = []\n",
    "for col in num_df.columns:\n",
    "    if num_df[col].dtype == 'Int64' and col != 'bb_key':\n",
    "        histo_cols.append(col)\n",
    "\n",
    "print(histo_cols)"
   ],
   "metadata": {
    "collapsed": false
   }
  },
  {
   "cell_type": "code",
   "execution_count": null,
   "outputs": [],
   "source": [
    "from helpers.analysis_utils import get_histogram_grid\n",
    "\n",
    "# plot histograms together on grid\n",
    "get_histogram_grid(\n",
    "    dataframe=num_df,\n",
    "    columns=histo_cols,\n",
    "    num_grid_cols=4\n",
    ")"
   ],
   "metadata": {
    "collapsed": false
   }
  },
  {
   "cell_type": "code",
   "execution_count": null,
   "outputs": [],
   "source": [
    "# take a closer look at a few histograms from grid\n",
    "closer_look = [\n",
    "    'team_home_park_attendance', 'team_home_park_factor_batter', 'total_games',\n",
    "    'games_started', 'batting_home_runs', 'batting_runs_batted_in', 'batting_intentional_walks'\n",
    "]\n",
    "\n",
    "print(closer_look)"
   ],
   "metadata": {
    "collapsed": false
   }
  },
  {
   "cell_type": "code",
   "execution_count": null,
   "outputs": [],
   "source": [
    "from helpers.analysis_utils import get_histogram\n",
    "\n",
    "# plot histograms\n",
    "for col in closer_look:\n",
    "    get_histogram(\n",
    "        dataframe=num_df,\n",
    "        column=col\n",
    "    )"
   ],
   "metadata": {
    "collapsed": false
   }
  }
 ],
 "metadata": {
  "kernelspec": {
   "display_name": "Python 3",
   "language": "python",
   "name": "python3"
  },
  "language_info": {
   "codemirror_mode": {
    "name": "ipython",
    "version": 2
   },
   "file_extension": ".py",
   "mimetype": "text/x-python",
   "name": "python",
   "nbconvert_exporter": "python",
   "pygments_lexer": "ipython2",
   "version": "2.7.6"
  }
 },
 "nbformat": 4,
 "nbformat_minor": 0
}
