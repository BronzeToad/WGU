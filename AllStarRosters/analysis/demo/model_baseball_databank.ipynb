{
 "cells": [
  {
   "cell_type": "code",
   "execution_count": null,
   "metadata": {
    "collapsed": true
   },
   "outputs": [],
   "source": [
    "# import and initialize data model\n",
    "from models.baseball_databank import BaseballDatabank\n",
    "databankModel = BaseballDatabank()"
   ]
  },
  {
   "cell_type": "code",
   "execution_count": null,
   "outputs": [],
   "source": [
    "# configs can be accessed as model dictionary\n",
    "for k, v in databankModel.config.items():\n",
    "    print(f'{k}: {v}')"
   ],
   "metadata": {
    "collapsed": false
   }
  },
  {
   "cell_type": "code",
   "execution_count": null,
   "outputs": [],
   "source": [
    "# model used to fetch headers update mapping from config file\n",
    "headers = databankModel.get_headers('AllstarFull')\n",
    "for k, v in dict(headers).items():\n",
    "    print(f'{k}: {v}')"
   ],
   "metadata": {
    "collapsed": false
   }
  },
  {
   "cell_type": "code",
   "execution_count": null,
   "outputs": [],
   "source": [
    "# attributes are directly accessible by name\n",
    "print(databankModel.source_url)\n",
    "print(databankModel.save_dir)\n",
    "print(databankModel.save_path)"
   ],
   "metadata": {
    "collapsed": false
   }
  },
  {
   "cell_type": "code",
   "execution_count": null,
   "outputs": [],
   "source": [
    "# model leverages config files to populate download urls\n",
    "for k, v in databankModel.filenames_config.items():\n",
    "    print(f'{k}: {v}')"
   ],
   "metadata": {
    "collapsed": false
   }
  },
  {
   "cell_type": "code",
   "execution_count": null,
   "outputs": [],
   "source": [
    "# resulting urls\n",
    "for url in databankModel.download_urls:\n",
    "    print(url)"
   ],
   "metadata": {
    "collapsed": false
   }
  },
  {
   "cell_type": "code",
   "execution_count": null,
   "outputs": [],
   "source": [
    "# finally, the download() function in this model loops through provided urls, and downloads files\n",
    "databankModel.download()"
   ],
   "metadata": {
    "collapsed": false
   }
  }
 ],
 "metadata": {
  "kernelspec": {
   "display_name": "Python 3",
   "language": "python",
   "name": "python3"
  },
  "language_info": {
   "codemirror_mode": {
    "name": "ipython",
    "version": 2
   },
   "file_extension": ".py",
   "mimetype": "text/x-python",
   "name": "python",
   "nbconvert_exporter": "python",
   "pygments_lexer": "ipython2",
   "version": "2.7.6"
  }
 },
 "nbformat": 4,
 "nbformat_minor": 0
}
