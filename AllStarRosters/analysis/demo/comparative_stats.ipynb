{
 "cells": [
  {
   "cell_type": "code",
   "execution_count": null,
   "metadata": {
    "collapsed": true
   },
   "outputs": [],
   "source": [
    "from models.databank_analysis import get_fresh_baseball_df, get_numerical_df\n",
    "\n",
    "# create main baseball dataframe\n",
    "bb_df = get_fresh_baseball_df()\n",
    "\n",
    "# create dataframe subset with numerical columns\n",
    "num_df = get_numerical_df(bb_df)\n",
    "\n",
    "num_df.head(25)"
   ]
  },
  {
   "cell_type": "code",
   "execution_count": null,
   "outputs": [],
   "source": [
    "# create list of columns\n",
    "stats_cols = []\n",
    "for col in num_df.columns:\n",
    "    if num_df[col].dtype != bool and col != 'bb_key':\n",
    "        stats_cols.append(col)\n",
    "\n",
    "print(stats_cols)"
   ],
   "metadata": {
    "collapsed": false
   }
  },
  {
   "cell_type": "code",
   "execution_count": null,
   "outputs": [],
   "source": [
    "# create shorter list for demo\n",
    "stats_cols = [\n",
    "    'team_home_park_attendance', 'total_games', 'salary', 'batting_runs_batted_in', 'height'\n",
    "]"
   ],
   "metadata": {
    "collapsed": false
   }
  },
  {
   "cell_type": "code",
   "execution_count": null,
   "outputs": [],
   "source": [
    "from helpers.analysis_utils import get_descriptive_stats_df\n",
    "\n",
    "# print stats\n",
    "for col in stats_cols:\n",
    "    get_descriptive_stats_df(\n",
    "        dataframe=num_df,\n",
    "        column=col,\n",
    "        bool_col='allstar_flag'\n",
    "    )"
   ],
   "metadata": {
    "collapsed": false
   }
  }
 ],
 "metadata": {
  "kernelspec": {
   "display_name": "Python 3",
   "language": "python",
   "name": "python3"
  },
  "language_info": {
   "codemirror_mode": {
    "name": "ipython",
    "version": 2
   },
   "file_extension": ".py",
   "mimetype": "text/x-python",
   "name": "python",
   "nbconvert_exporter": "python",
   "pygments_lexer": "ipython2",
   "version": "2.7.6"
  }
 },
 "nbformat": 4,
 "nbformat_minor": 0
}
